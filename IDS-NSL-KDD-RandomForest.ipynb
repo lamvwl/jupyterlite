{
 "cells": [
  {
   "cell_type": "code",
   "execution_count": 2,
   "id": "f6890782-8d59-4de6-9186-62821ec7a326",
   "metadata": {},
   "outputs": [
    {
     "name": "stdout",
     "output_type": "stream",
     "text": [
      "   0  tcp ftp_data   SF  491   0.1  0.2  0.3  0.4  0.5  ...  0.17  0.03  \\\n",
      "0  0  udp    other   SF  146     0    0    0    0    0  ...  0.00  0.60   \n",
      "1  0  tcp  private   S0    0     0    0    0    0    0  ...  0.10  0.05   \n",
      "2  0  tcp     http   SF  232  8153    0    0    0    0  ...  1.00  0.00   \n",
      "3  0  tcp     http   SF  199   420    0    0    0    0  ...  1.00  0.00   \n",
      "4  0  tcp  private  REJ    0     0    0    0    0    0  ...  0.07  0.07   \n",
      "\n",
      "   0.17.1  0.00.6  0.00.7  0.00.8  0.05  0.00.9   normal  20  \n",
      "0    0.88    0.00    0.00    0.00   0.0    0.00   normal  15  \n",
      "1    0.00    0.00    1.00    1.00   0.0    0.00  neptune  19  \n",
      "2    0.03    0.04    0.03    0.01   0.0    0.01   normal  21  \n",
      "3    0.00    0.00    0.00    0.00   0.0    0.00   normal  21  \n",
      "4    0.00    0.00    0.00    0.00   1.0    1.00  neptune  21  \n",
      "\n",
      "[5 rows x 43 columns]\n"
     ]
    }
   ],
   "source": [
    "#Import Libraries\n",
    "import pandas as pd\n",
    "\n",
    "data_training = pd.read_csv(\"./NSL-KDD-Dataset/KDDTrain+.txt\")\n",
    "\n",
    "\n",
    "# data_training.info()\n",
    "\n",
    "print(data_training.head())"
   ]
  },
  {
   "cell_type": "code",
   "execution_count": null,
   "id": "a5057d27-56b7-40a8-ba0c-401c91955074",
   "metadata": {},
   "outputs": [],
   "source": []
  }
 ],
 "metadata": {
  "kernelspec": {
   "display_name": "Python 3 (ipykernel)",
   "language": "python",
   "name": "python3"
  },
  "language_info": {
   "codemirror_mode": {
    "name": "ipython",
    "version": 3
   },
   "file_extension": ".py",
   "mimetype": "text/x-python",
   "name": "python",
   "nbconvert_exporter": "python",
   "pygments_lexer": "ipython3",
   "version": "3.10.12"
  }
 },
 "nbformat": 4,
 "nbformat_minor": 5
}
